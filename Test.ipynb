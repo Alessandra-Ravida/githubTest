{
 "cells": [
  {
   "cell_type": "markdown",
   "id": "a9065342-ab31-4021-bf58-518831e85bd6",
   "metadata": {},
   "source": [
    "# Overall Title\n",
    "This is a short intro in the markdown"
   ]
  },
  {
   "cell_type": "code",
   "execution_count": 4,
   "id": "edc84097-645f-4947-b488-ebde2abff31e",
   "metadata": {
    "tags": []
   },
   "outputs": [],
   "source": [
    "#Import packages needed for the project\n",
    "import requests\n",
    "import pandas as pd"
   ]
  }
 ],
 "metadata": {
  "kernelspec": {
   "display_name": "Python 3",
   "language": "python",
   "name": "python3"
  },
  "language_info": {
   "codemirror_mode": {
    "name": "ipython",
    "version": 3
   },
   "file_extension": ".py",
   "mimetype": "text/x-python",
   "name": "python",
   "nbconvert_exporter": "python",
   "pygments_lexer": "ipython3",
   "version": "3.8.8"
  }
 },
 "nbformat": 4,
 "nbformat_minor": 5
}
